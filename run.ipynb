{
 "cells": [
  {
   "cell_type": "code",
   "execution_count": null,
   "metadata": {},
   "outputs": [],
   "source": [
    "def es_numero(cadena):\n",
    "    # Reemplazar el punto por nada para validar enteros\n",
    "    if cadena.replace('.', '').isdigit():\n",
    "        return int(cadena)\n",
    "    elif cadena.replace('.', '', 1).isdigit():\n",
    "        return float(cadena)\n",
    "    else:\n",
    "        raise ValueError(f'{cadena} no es un número válido.')\n",
    "    \n",
    "a = input()\n",
    "b = input()\n",
    "\n",
    "print(es_numero(a), es_numero(b))"
   ]
  }
 ],
 "metadata": {
  "language_info": {
   "name": "python"
  },
  "orig_nbformat": 4
 },
 "nbformat": 4,
 "nbformat_minor": 2
}
